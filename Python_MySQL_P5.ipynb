{
  "nbformat": 4,
  "nbformat_minor": 0,
  "metadata": {
    "colab": {
      "provenance": [],
      "authorship_tag": "ABX9TyMvJ95CWNzXGH2b1EKVScEn",
      "include_colab_link": true
    },
    "kernelspec": {
      "name": "python3",
      "display_name": "Python 3"
    },
    "language_info": {
      "name": "python"
    }
  },
  "cells": [
    {
      "cell_type": "markdown",
      "metadata": {
        "id": "view-in-github",
        "colab_type": "text"
      },
      "source": [
        "<a href=\"https://colab.research.google.com/github/Animeshcoder/MySQL-Python/blob/main/Python_MySQL_P5.ipynb\" target=\"_parent\"><img src=\"https://colab.research.google.com/assets/colab-badge.svg\" alt=\"Open In Colab\"/></a>"
      ]
    },
    {
      "cell_type": "markdown",
      "source": [
        "### **Introduction:**\n",
        "This project is a Python script that demonstrates how to search for URLs in a MySQL database. The script defines a search_database function that takes the connection details for a MySQL database as arguments and returns a list of results. This function uses PyMySQL to connect to the database, execute SQL queries, and fetch results. Best part is that you don't need to get the name of table where the URLs are present this code will execute all table and all columns after that it will return all matching rows.\n"
      ],
      "metadata": {
        "id": "CB65iYVipDz4"
      }
    },
    {
      "cell_type": "markdown",
      "source": [
        "### **Involved Steps:**\n",
        "\n",
        "**Step 1: Connect to the database**\n",
        "\n",
        "The search_database function starts by setting up the connection details for the MySQL database and creating a connection object using PyMySQL’s connect function. The host, user, password, and database arguments are passed to this function to specify the connection details.\n",
        "\n",
        "**Step 2: Query data from the tables**\n",
        "\n",
        "Next, a cursor object is created using the cursor method of the connection object. This cursor is used to execute an SQL query that retrieves a list of all tables in the database using the SHOW TABLES statement. The table names are stored in a list.\n",
        "\n",
        "*The function then loops through each table in this list and performs the following steps:*\n",
        "\n",
        "*Get list of columns:* The code retrieves a list of all columns of type varchar in the current table by executing an SQL query that selects the COLUMN_NAME column from the INFORMATION_SCHEMA.COLUMNS table where the value of the TABLE_NAME column matches the current table name and the value of the DATA_TYPE column is 'varchar'. The column names are stored in a list.\n",
        "\n",
        "*Build WHERE clause:* The code builds a WHERE clause for an SQL SELECT statement that searches for rows in the current table that contain URLs in any varchar column. This is done by joining together multiple conditions using the OR operator, where each condition uses a regular expression to match columns that contain URLs.\n",
        "\n",
        "*Execute SELECT statement:* If there are any varchar columns in the current table, the code executes an SQL SELECT statement using the built WHERE clause to search for rows in the current table that contain URLs in any varchar column. Any matching rows are added to a list of results.\n",
        "\n",
        "**Step 3: Close connection and return results**\n",
        "\n",
        "After all tables have been searched, both cursor and connection objects are closed by calling their respective close methods. Finally, the list of results is returned to the caller."
      ],
      "metadata": {
        "id": "OpHs5L1dq_9m"
      }
    },
    {
      "cell_type": "code",
      "execution_count": null,
      "metadata": {
        "id": "QWW8xsA_pB3j"
      },
      "outputs": [],
      "source": [
        "import pymysql\n",
        "\n",
        "def search_database(host, user, password, database):\n",
        "    # Set up the connection\n",
        "    conn = pymysql.connect(\n",
        "        host=host,\n",
        "        user=user,\n",
        "        password=password,\n",
        "        database=database\n",
        "    )\n",
        "\n",
        "    # Create a cursor\n",
        "    cursor = conn.cursor()\n",
        "\n",
        "    # Get the list of tables\n",
        "    cursor.execute(\"SHOW TABLES\")\n",
        "    tables = [row[0] for row in cursor.fetchall()]\n",
        "\n",
        "    # Search for the value in all columns of all tables\n",
        "    results = []\n",
        "    for table in tables:\n",
        "        # Get the list of columns\n",
        "        table_escaped = conn.escape_string(table)\n",
        "        cursor.execute(f\"SELECT COLUMN_NAME FROM INFORMATION_SCHEMA.COLUMNS WHERE TABLE_NAME = '{table_escaped}' AND DATA_TYPE = 'varchar'\")\n",
        "        columns = [row[0] for row in cursor.fetchall()]\n",
        "\n",
        "        # Build the WHERE clause\n",
        "        where_clause = ' OR '.join([f\"`{column}` REGEXP 'https?://[^/\\\\\\\\s]+' \" for column in columns])\n",
        "\n",
        "        # Check if the where_clause is not empty\n",
        "        if where_clause:\n",
        "            # Execute the SELECT statement\n",
        "            query = f\"SELECT * FROM `{table_escaped}` WHERE {where_clause}\"\n",
        "            print(f\"Executing query: {query}\")\n",
        "            cursor.execute(query)\n",
        "\n",
        "            # Fetch the results\n",
        "            rows = cursor.fetchall()\n",
        "            if rows:\n",
        "                results.append((table, rows))\n",
        "\n",
        "    # Close the cursor and connection\n",
        "    cursor.close()\n",
        "    conn.close()\n",
        "\n",
        "    return results\n",
        "\n",
        "# Example usage\n",
        "results = search_database(\n",
        "    host='yourhost',\n",
        "    user='youruser',\n",
        "    password='yourpassword@123',\n",
        "    database='yourdatabasename'\n",
        ")\n",
        "\n",
        "for table, rows in results:\n",
        "    print(f\"Found {len(rows)} match(es) in table '{table}':\")\n",
        "    for row in rows:\n",
        "        print(row)\n",
        "\n",
        "# Note: In MySQL queries if your column or table or database name has speces inbetween then then you have to use backtick in place of quotes for example i have used `{table_escaped}` and `{column}`\n",
        "#  because i don't know about the table names and column names so it can be anything."
      ]
    }
  ]
}