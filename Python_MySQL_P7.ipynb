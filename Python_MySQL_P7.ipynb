{
  "nbformat": 4,
  "nbformat_minor": 0,
  "metadata": {
    "colab": {
      "provenance": [],
      "authorship_tag": "ABX9TyOMWccrgqPZiR/yOJ6znN6K",
      "include_colab_link": true
    },
    "kernelspec": {
      "name": "python3",
      "display_name": "Python 3"
    },
    "language_info": {
      "name": "python"
    }
  },
  "cells": [
    {
      "cell_type": "markdown",
      "metadata": {
        "id": "view-in-github",
        "colab_type": "text"
      },
      "source": [
        "<a href=\"https://colab.research.google.com/github/Animeshcoder/MySQL-Python/blob/main/Python_MySQL_P7.ipynb\" target=\"_parent\"><img src=\"https://colab.research.google.com/assets/colab-badge.svg\" alt=\"Open In Colab\"/></a>"
      ]
    },
    {
      "cell_type": "markdown",
      "source": [
        "### **Introduction:**\n",
        "\n",
        "This code is written in Python and uses the mysql.connector library to connect to a MySQL database. The purpose of the code is to extract data from an existing table in the database, transform it, and insert it into a new table.\n",
        " This code is taking values and their corresponding IDs from an existing table in a MySQL database. It then creates a new table and checks which column each ID belongs to in the new table. Based on this information, it inserts the values into the appropriate columns of the new table.\n"
      ],
      "metadata": {
        "id": "UwA4EsqLhZs0"
      }
    },
    {
      "cell_type": "markdown",
      "source": [
        "**Import the mysql.connector library:** This library is used to connect to a MySQL database from Python."
      ],
      "metadata": {
        "id": "qMphP1ukk5yg"
      }
    },
    {
      "cell_type": "code",
      "execution_count": null,
      "metadata": {
        "id": "0SaahQishW9K"
      },
      "outputs": [],
      "source": [
        "import mysql.connector"
      ]
    },
    {
      "cell_type": "markdown",
      "source": [
        "**Establish a connection to the MySQL database:** Use the connect method from the mysql.connector library and provide the necessary credentials such as host, user, password, and database name."
      ],
      "metadata": {
        "id": "0Xg0nukfk_-U"
      }
    },
    {
      "cell_type": "code",
      "source": [
        "mydb = mysql.connector.connect(\n",
        "  host=\"yourhost\",\n",
        "  user=\"youruser\",\n",
        "  password=\"yourpassword@123\",\n",
        "  database=\"yourdatabasename\"\n",
        ")\n"
      ],
      "metadata": {
        "id": "KDCwALPvlGdn"
      },
      "execution_count": null,
      "outputs": []
    },
    {
      "cell_type": "markdown",
      "source": [
        "**Create a cursor object:** Use the cursor method of the connection object to create a cursor object. This cursor is used to execute SQL queries on the database."
      ],
      "metadata": {
        "id": "No37tiLslOHP"
      }
    },
    {
      "cell_type": "code",
      "source": [
        "mycursor = mydb.cursor()\n"
      ],
      "metadata": {
        "id": "pPCqwwS9lSDm"
      },
      "execution_count": null,
      "outputs": []
    },
    {
      "cell_type": "markdown",
      "source": [
        "**Define lists of IDs for each column in the new table:** Define lists of IDs that correspond to each column in a new table that will be created. These lists are used later in the code to extract values from an existing table and insert them into the new table.\n"
      ],
      "metadata": {
        "id": "1LVXA_MzlUfI"
      }
    },
    {
      "cell_type": "code",
      "source": [
        "name_ids = ['1', '2', '3', '4', '5']\n",
        "phone_no_ids = ['6', '7', '8', '9', '10']\n",
        "date_of_birth_ids = ['11', '12', '13', '14', '15']\n",
        "age_ids = ['16', '17', '18', '19', '20']\n"
      ],
      "metadata": {
        "id": "Jocl6gTXlgrf"
      },
      "execution_count": null,
      "outputs": []
    },
    {
      "cell_type": "markdown",
      "source": [
        "**Create a new table in the database:** Use the execute method of the cursor object and provide an SQL query to create a new table with the desired columns."
      ],
      "metadata": {
        "id": "qA6Gwmcqlifb"
      }
    },
    {
      "cell_type": "code",
      "source": [
        "mycursor.execute(\"CREATE TABLE newtable (`Name` VARCHAR(255), `Phone No` VARCHAR(200), `Date of Birth` VARCHAR(300), `Age` VARCHAR(25)\")\n"
      ],
      "metadata": {
        "id": "G6lba2deloo6"
      },
      "execution_count": null,
      "outputs": []
    },
    {
      "cell_type": "markdown",
      "source": [
        "**Construct an SQL query to select values from an existing table:** Construct an SQL query to select values and their corresponding IDs from an existing table. The query uses placeholders for the IDs, which are later replaced with the actual values using string formatting."
      ],
      "metadata": {
        "id": "KWCndBs5lvLa"
      }
    },
    {
      "cell_type": "code",
      "source": [
        "query = \"SELECT IDs, Value FROM tablename WHERE IDs IN (%s)\"\n",
        "_ids = name_ids + phone_no_ids + date_of_birth_ids + age_ids\n",
        "in_p = ', '.join(list(map(lambda x: '%s', _ids)))\n",
        "query = query % in_p\n"
      ],
      "metadata": {
        "id": "bbD4Vp4Rl2C9"
      },
      "execution_count": null,
      "outputs": []
    },
    {
      "cell_type": "markdown",
      "source": [
        "**Execute the query and fetch the results:** Execute the query using the execute method of the cursor object, providing the query and a tuple of IDs as arguments. Fetch the results of the query using the fetchall method of the cursor object."
      ],
      "metadata": {
        "id": "XUsHETXpl4Vd"
      }
    },
    {
      "cell_type": "code",
      "source": [
        "mycursor.execute(query, tuple(_ids))\n",
        "results = mycursor.fetchall()\n"
      ],
      "metadata": {
        "id": "Fz4AckXnmHRt"
      },
      "execution_count": null,
      "outputs": []
    },
    {
      "cell_type": "markdown",
      "source": [
        "**Initialize an empty dictionary to store row data:** Initialize an empty dictionary to store row data for insertion into the new table."
      ],
      "metadata": {
        "id": "XEsH0oIZmJgy"
      }
    },
    {
      "cell_type": "code",
      "source": [
        "row_data = {}"
      ],
      "metadata": {
        "id": "XxLJ8frqmPI4"
      },
      "execution_count": null,
      "outputs": []
    },
    {
      "cell_type": "markdown",
      "source": [
        "**Iterate over the results and insert values into the new table:** Iterate over the results of the query, checking if each ID is in one of the predefined lists of IDs. If it is, determine which column in the new table it corresponds to and add it to the row data dictionary.\n",
        "Once all values for a row have been added to the row data dictionary, construct an INSERT statement using string formatting to insert the row into the new table. Execute the statement using the execute method of the cursor object, providing the INSERT statement and a tuple of values as arguments. Commit the changes to the database using the commit method of the connection object.\n",
        "\n",
        "This process is repeated for all rows in the results until all data has been inserted into the new table"
      ],
      "metadata": {
        "id": "S4D0vS7XmR4t"
      }
    },
    {
      "cell_type": "code",
      "source": [
        "for _id, value in results:\n",
        "    if _id in name_ids:\n",
        "        # Start a new row if a IDs from name_ids is encountered\n",
        "        if row_data:\n",
        "            columns = ', '.join([f'`{column}`' for column in row_data.keys()])\n",
        "            values = tuple(row_data.values())\n",
        "            placeholders = ', '.join(['%s'] * len(values))\n",
        "            mycursor.execute(f\"INSERT INTO newtable ({columns}) VALUES ({placeholders})\", values)\n",
        "            mydb.commit()\n",
        "            row_data = {}\n",
        "\n",
        "        column_name = \"Name\"\n",
        "    elif _id in phone_no_ids:\n",
        "        column_name = \"Phone No\"\n",
        "    elif _id in date_of_birth_ids:\n",
        "        column_name = \"Date of Birth\"\n",
        "    elif _id in age_ids:\n",
        "        column_name = \"Age\"\n",
        "    else:\n",
        "        continue\n",
        "\n",
        "    row_data[column_name] = value\n",
        "\n",
        "# Insert last row of data into new table\n",
        "if row_data:\n",
        "    columns = ', '.join([f'`{column}`' for column in row_data.keys()])\n",
        "    values = tuple(row_data.values())\n",
        "    placeholders = ', '.join(['%s'] * len(values))\n",
        "    mycursor.execute(f\"INSERT INTO newtable ({columns}) VALUES ({placeholders})\", values)\n",
        "    mydb.commit()\n"
      ],
      "metadata": {
        "id": "iO6vVEqPmfwY"
      },
      "execution_count": null,
      "outputs": []
    }
  ]
}